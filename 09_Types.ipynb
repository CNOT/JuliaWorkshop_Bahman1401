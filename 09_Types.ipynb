{
 "cells": [
  {
   "attachments": {},
   "cell_type": "markdown",
   "metadata": {},
   "source": [
    "# Types\n",
    "Julia has an extensive built-in type system, and is also pretty good at compiling (that is running fast) codes with user-defined types too. Also, multiple dispatch, encourages developers to add efficient methods for specific data types. \n",
    "\n",
    "## Useful keywords\n",
    "- `::` : declares the type of the variable, or the output of a function\n",
    "- `<:` : is the subtype operator\n",
    "- `typeof(x)` : Get the concrete type of `x`.\n",
    "- `subtypes(T::DataType)` : Return a list of immediate subtypes of DataType `T`.\n",
    "- `abstract type` : declares a type that cannot be instantiated, and serves only as a node in the type graph.\n",
    "- `struct` : The most commonly used kind of type in Julia. It declares an *immutable* type name with a set of fields.\n",
    "- `mutable struct` : is similar to `struct`, but additionally allows the fields of the type to be set after construction.\n",
    "- `@which` : Applied to a function or macro call, it evaluates the arguments to the specified call, and returns the Method object for the method that would be called for those arguments.\n",
    "- `@code_warntype` : can be used to find potential type instability.\n",
    " \n",
    "Let's explore it with a few examples:\n",
    "\n",
    "## [Rock-Paper-Scissors](https://giordano.github.io/blog/2017-11-03-rock-paper-scissors/) \n",
    "*follow the above link for the source of this section*\n",
    "\n",
    "![RPS-wikimedia](images/Rock-paper-scissors.svg.png)\n",
    "\n",
    "Everyone is familiar with the rock-paper-scissors game. Let's see the implementation in Julia:"
   ]
  },
  {
   "cell_type": "code",
   "execution_count": null,
   "metadata": {},
   "outputs": [],
   "source": [
    "abstract type Shape end\n",
    "struct Rock     <: Shape end\n",
    "struct Paper    <: Shape end\n",
    "struct Scissors <: Shape end\n",
    "play(::Type{Paper}, ::Type{Rock})     = \"Paper wins\"\n",
    "play(::Type{Paper}, ::Type{Scissors}) = \"Scissors wins\"\n",
    "play(::Type{Rock},  ::Type{Scissors}) = \"Rock wins\"\n",
    "play(::Type{T},     ::Type{T}) where {T<: Shape} = \"Tie, try again\"\n",
    "play(a::Type{<:Shape}, b::Type{<:Shape}) = play(b, a) # Commutativity"
   ]
  },
  {
   "attachments": {},
   "cell_type": "markdown",
   "metadata": {},
   "source": [
    "That's it. I encourage you to compare this with other implementations in other languages over at [Rosetta Stone](https://rosettacode.org/wiki/Rock-paper-scissors)."
   ]
  },
  {
   "attachments": {},
   "cell_type": "markdown",
   "metadata": {},
   "source": [
    "Let's play a couple of rounds of the game:"
   ]
  },
  {
   "cell_type": "code",
   "execution_count": null,
   "metadata": {},
   "outputs": [],
   "source": [
    "play(Paper, Scissors)"
   ]
  },
  {
   "cell_type": "code",
   "execution_count": null,
   "metadata": {},
   "outputs": [],
   "source": [
    "play(Rock, Rock)"
   ]
  },
  {
   "cell_type": "code",
   "execution_count": null,
   "metadata": {},
   "outputs": [],
   "source": [
    "play(Rock, Paper)"
   ]
  },
  {
   "cell_type": "code",
   "execution_count": null,
   "metadata": {},
   "outputs": [],
   "source": [
    "@which play(Rock, Paper)"
   ]
  },
  {
   "attachments": {},
   "cell_type": "markdown",
   "metadata": {},
   "source": [
    "There was no explicit method for the combination of arguments Rock-Paper, but the commutative rule has been used here, as confirmed by the `@which` macro."
   ]
  },
  {
   "attachments": {},
   "cell_type": "markdown",
   "metadata": {},
   "source": [
    "Let's play randomly:"
   ]
  },
  {
   "cell_type": "code",
   "execution_count": null,
   "metadata": {},
   "outputs": [],
   "source": [
    "subtypes(Shape)"
   ]
  },
  {
   "cell_type": "code",
   "execution_count": null,
   "metadata": {},
   "outputs": [],
   "source": [
    "rand(subtypes(Shape),5)"
   ]
  },
  {
   "cell_type": "code",
   "execution_count": null,
   "metadata": {},
   "outputs": [],
   "source": [
    "play(rand(subtypes(Shape)), rand(subtypes(Shape)))"
   ]
  },
  {
   "cell_type": "code",
   "execution_count": null,
   "metadata": {},
   "outputs": [],
   "source": [
    "play(rand(subtypes(Shape)), rand(subtypes(Shape)))"
   ]
  },
  {
   "cell_type": "code",
   "execution_count": null,
   "metadata": {},
   "outputs": [],
   "source": [
    "play(rand(subtypes(Shape)), rand(subtypes(Shape)))"
   ]
  },
  {
   "attachments": {},
   "cell_type": "markdown",
   "metadata": {},
   "source": [
    "### Extend to four shapes\n",
    "This [math.stackexchange](https://math.stackexchange.com/questions/410558/rock-paper-scissors-well) proposes adding a 4th shape, a well:\n",
    "- the well wins against rock and scissors, because both fall into it,\n",
    "- the well loses against paper, because the paper covers it.\n",
    "\n",
    "This is a non-zero-sum game, but this isn’t a concern for us.\n",
    "\n",
    "We can extend the above Julia implementation to include the well."
   ]
  },
  {
   "cell_type": "code",
   "execution_count": null,
   "metadata": {},
   "outputs": [],
   "source": [
    "struct Well <: Shape end\n",
    "play(::Type{Well}, ::Type{Rock})     = \"Well wins\"\n",
    "play(::Type{Well}, ::Type{Scissors}) = \"Well wins\"\n",
    "play(::Type{Well}, ::Type{Paper})    = \"Paper wins\""
   ]
  },
  {
   "attachments": {},
   "cell_type": "markdown",
   "metadata": {},
   "source": [
    "We accomplished the extension with just four additional lines, one to define the new type and three for the new game rules. We don’t need to redefine the tie or the commutativity methods, thanks to Julia’s dynamic type system."
   ]
  },
  {
   "cell_type": "code",
   "execution_count": null,
   "metadata": {},
   "outputs": [],
   "source": [
    "play(Paper, Well)"
   ]
  },
  {
   "cell_type": "code",
   "execution_count": null,
   "metadata": {},
   "outputs": [],
   "source": [
    "play(Well, Rock)"
   ]
  }
 ],
 "metadata": {
  "kernelspec": {
   "display_name": "Julia 1.8.5",
   "language": "julia",
   "name": "julia-1.8"
  },
  "language_info": {
   "file_extension": ".jl",
   "mimetype": "application/julia",
   "name": "julia",
   "version": "1.8.5"
  },
  "orig_nbformat": 4,
  "vscode": {
   "interpreter": {
    "hash": "31f2aee4e71d21fbe5cf8b01ff0e069b9275f58929596ceb00d14d90e3e16cd6"
   }
  }
 },
 "nbformat": 4,
 "nbformat_minor": 2
}
