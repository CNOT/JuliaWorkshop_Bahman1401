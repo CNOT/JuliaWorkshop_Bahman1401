{
 "cells": [
  {
   "attachments": {},
   "cell_type": "markdown",
   "metadata": {},
   "source": [
    "# `DifferentialEquations.jl` \n",
    "`DifferentialEquations.jl` is also a huge package that has numerous different state-of-the-art differential equation solvers. It also works amazingly with a number of different packages, including `Measurements.jl`. See [SciML.ai](https://docs.sciml.ai/DiffEqDocs/stable/) for the full documentation. Let's just see it in use with a few examples:"
   ]
  },
  {
   "cell_type": "code",
   "execution_count": null,
   "metadata": {},
   "outputs": [],
   "source": [
    "using DifferentialEquations, Plots"
   ]
  },
  {
   "attachments": {},
   "cell_type": "markdown",
   "metadata": {},
   "source": [
    "## Lorentz attractors\n",
    "In this example we will solve the Lorenz equations:\n",
    "$$\\frac{dx}{dt} = σ (y-x)$$\n",
    "$$\\frac{dy}{dt} = x(ρ-z)-y$$\n",
    "$$\\frac{dz}{dt} = xy - β z$$"
   ]
  },
  {
   "cell_type": "code",
   "execution_count": null,
   "metadata": {},
   "outputs": [],
   "source": [
    "function lorenz!(du,u,p,t)\n",
    " du[1] = 10.0*(u[2]-u[1])\n",
    " du[2] = u[1]*(28.0-u[3]) - u[2]\n",
    " du[3] = u[1]*u[2] - (8/3)*u[3]\n",
    "end"
   ]
  },
  {
   "attachments": {},
   "cell_type": "markdown",
   "metadata": {},
   "source": [
    "and then we can use this function in a problem:"
   ]
  },
  {
   "cell_type": "code",
   "execution_count": null,
   "metadata": {},
   "outputs": [],
   "source": [
    "u0 = [1.0;0.0;0.0]\n",
    "tspan = (0.0,100.0)\n",
    "prob = ODEProblem(lorenz!,u0,tspan)\n",
    "sol = solve(prob)"
   ]
  },
  {
   "cell_type": "code",
   "execution_count": null,
   "metadata": {},
   "outputs": [],
   "source": [
    "plot(sol,vars=(1,2,3))"
   ]
  },
  {
   "attachments": {},
   "cell_type": "markdown",
   "metadata": {},
   "source": [
    "Note that the default plot for multi-dimensional systems is an overlay of each timeseries. We can plot the timeseries of just the second component using the variable choices interface once more:"
   ]
  },
  {
   "cell_type": "code",
   "execution_count": null,
   "metadata": {},
   "outputs": [],
   "source": [
    "plot(sol,vars=(0,2))"
   ]
  },
  {
   "attachments": {},
   "cell_type": "markdown",
   "metadata": {},
   "source": [
    "## A driven pendulum\n",
    "consider a model of a pendulum consisting of a slender rod of length $l$ and mass $m$:\n",
    "$$\\frac{d\\theta(t)}{dt}=\\omega(t)$$\n",
    "$$\\frac{d\\omega(t)}{dt}=−\\frac 3 2 \\frac g l \\sin\\theta(t)+\\frac{3}{ml^2}M(t)\\, ,$$\n",
    "\n",
    "where $\\theta$ and $\\omega$ are the angular deviation of the pendulum from the vertical (hanging) orientation and the angular rate, respectively, $M$ is an external torque (developed, say, by a wind or a motor), and finally, $g$ stands for gravitional acceleration."
   ]
  },
  {
   "cell_type": "code",
   "execution_count": null,
   "metadata": {},
   "outputs": [],
   "source": [
    "l = 1.0                             # length [m]\n",
    "m = 1.0                             # mass[m]\n",
    "g = 9.81                            # gravitational acceleration [m/s²]\n",
    "\n",
    "function pendulum!(du,u,p,t)\n",
    "    du[1] = u[2]                    # θ'(t) = ω(t)\n",
    "    du[2] = -3g/(2l)*sin(u[1]) + 3/(m*l^2)*p(t) # ω'(t) = -3g/(2l) sin θ(t) + 3/(ml^2)M(t)\n",
    "end\n",
    "\n",
    "θ₀ = 0.01                           # initial angular deflection [rad]\n",
    "ω₀ = 0.0                            # initial angular velocity [rad/s]\n",
    "u₀ = [θ₀, ω₀]                       # initial state vector\n",
    "tspan = (0.0,10.0)                  # time interval\n",
    "\n",
    "M = t->0.1sin(t)                    # external torque [Nm]\n",
    "\n",
    "prob = ODEProblem(pendulum!,u₀,tspan,M)\n",
    "sol = solve(prob)\n",
    "\n",
    "plot(sol,linewidth=2,xaxis=\"t\",label=[\"θ [rad]\" \"ω [rad/s]\"],layout=(2,1))"
   ]
  },
  {
   "cell_type": "code",
   "execution_count": null,
   "metadata": {},
   "outputs": [],
   "source": []
  }
 ],
 "metadata": {
  "kernelspec": {
   "display_name": "Julia 1.8.5",
   "language": "julia",
   "name": "julia-1.8"
  },
  "language_info": {
   "file_extension": ".jl",
   "mimetype": "application/julia",
   "name": "julia",
   "version": "1.8.5"
  },
  "orig_nbformat": 4,
  "vscode": {
   "interpreter": {
    "hash": "31f2aee4e71d21fbe5cf8b01ff0e069b9275f58929596ceb00d14d90e3e16cd6"
   }
  }
 },
 "nbformat": 4,
 "nbformat_minor": 2
}
