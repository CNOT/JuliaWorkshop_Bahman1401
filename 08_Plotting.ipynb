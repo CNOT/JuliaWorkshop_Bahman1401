{
 "cells": [
  {
   "attachments": {},
   "cell_type": "markdown",
   "metadata": {},
   "source": [
    "# Plotting\n",
    "There are several plotting packages in Julia, some of which include:\n",
    "- `Plots.jl`\n",
    "- `Makie.jl`\n",
    "- `Gadfly.jl`\n",
    "- `PyPlot.jl`\n",
    "- ...\n",
    "\n",
    "Here, we'll look at `Plots.jl`. It should be installed in the current environment, however, if it's not go ahead and install it using the methods explained in previous notebooks."
   ]
  },
  {
   "cell_type": "code",
   "execution_count": null,
   "metadata": {},
   "outputs": [],
   "source": [
    "# using Pkg\n",
    "# Pkg.add(\"Plots\")\n",
    "using Plots"
   ]
  },
  {
   "attachments": {},
   "cell_type": "markdown",
   "metadata": {},
   "source": [
    "## Basics"
   ]
  },
  {
   "attachments": {},
   "cell_type": "markdown",
   "metadata": {},
   "source": [
    "One of the advantages to `Plots.jl` is that it allows you to seamlessly change backends. In this notebook, we'll try out the `gr()`  backend."
   ]
  },
  {
   "cell_type": "code",
   "execution_count": null,
   "metadata": {},
   "outputs": [],
   "source": [
    "globaltemperatures = [14.4, 14.5, 14.8, 15.2, 15.5, 15.8]\n",
    "numpirates = [45000, 20000, 15000, 5000, 400, 17];\n",
    "gr()\n",
    "plot(numpirates, globaltemperatures, label=\"line\")\n",
    "scatter!(numpirates, globaltemperatures, label=\"points\") "
   ]
  },
  {
   "attachments": {},
   "cell_type": "markdown",
   "metadata": {},
   "source": [
    "The `!` at the end of the `scatter!` function name makes `scatter!` a mutating function, indicating that the scattered points will be added onto the pre-existing plot.\n",
    "\n",
    "In contrast, see what happens when you replace `scatter!` in the above with the non-mutating function `scatter`.\n",
    "\n",
    "Next, let's update this plot with the `xlabel!`, `ylabel!`, and `title!` commands to add more information to our plot."
   ]
  },
  {
   "cell_type": "code",
   "execution_count": null,
   "metadata": {},
   "outputs": [],
   "source": [
    "xlabel!(\"Number of Pirates [Approximate]\")\n",
    "ylabel!(\"Global Temperature (C)\")\n",
    "title!(\"Influence of pirate population on global warming\")    \n"
   ]
  },
  {
   "attachments": {},
   "cell_type": "markdown",
   "metadata": {},
   "source": [
    "This still doesn't look quite right. The number of pirates has decreased since 1860, so reading the plot from left to right is like looking backwards in time rather than forwards. Let's flip the x axis to better see how pirate populations have caused global temperatures to change over time!"
   ]
  },
  {
   "cell_type": "code",
   "execution_count": null,
   "metadata": {},
   "outputs": [],
   "source": [
    "xflip!()"
   ]
  },
  {
   "attachments": {},
   "cell_type": "markdown",
   "metadata": {},
   "source": [
    "Now let's look at a fun excersize:"
   ]
  },
  {
   "cell_type": "code",
   "execution_count": null,
   "metadata": {},
   "outputs": [],
   "source": [
    "@userplot CirclePlot\n",
    "@recipe function f(cp::CirclePlot)\n",
    "    x, y, i = cp.args\n",
    "    n = length(x)\n",
    "    inds = circshift(1:n, 1 - i)\n",
    "    linewidth --> range(0, 10, length = n)\n",
    "    seriesalpha --> range(0, 1, length = n)\n",
    "    aspect_ratio --> 1\n",
    "    label --> false\n",
    "    x[inds], y[inds]\n",
    "end\n",
    "\n",
    "n = 150\n",
    "t = range(0, 2π, length = n)\n",
    "x = sin.(t)\n",
    "y = cos.(t)\n",
    "\n",
    "anim = @animate for i ∈ 1:n\n",
    "    circleplot(x, y, i)\n",
    "end\n",
    "gif(anim, \"anim_fps15.gif\", fps = 15)"
   ]
  },
  {
   "cell_type": "code",
   "execution_count": null,
   "metadata": {},
   "outputs": [],
   "source": [
    "n = 400\n",
    "t = range(0, 2π, length = n)\n",
    "x = 16sin.(t).^3\n",
    "y = 13cos.(t) .- 5cos.(2t) .- 2cos.(3t) .- cos.(4t)\n",
    "@gif for i ∈ 1:n\n",
    "    circleplot(x, y, i, line_z = 1:n, cbar = false, c = :reds,framestyle = :none)\n",
    "end when i > 40 && mod1(i, 10) == 5"
   ]
  },
  {
   "attachments": {},
   "cell_type": "markdown",
   "metadata": {},
   "source": [
    "Let's look at another fun example:"
   ]
  },
  {
   "cell_type": "code",
   "execution_count": null,
   "metadata": {},
   "outputs": [],
   "source": [
    "sier = scatter(1,xlim = (0, 1),ylim = (0, sqrt(3)/2), legend = false, marker = 1)\n",
    "m=0.5 .* ((0,0).+ (1,0))\n",
    "@gif for i=1:5000\n",
    "        global m=0.5 .*(m .+ rand([(0,0),(1,0),0.5.*(1,sqrt(3))]))\n",
    "        push!(sier, m)\n",
    "     end every 10"
   ]
  },
  {
   "attachments": {},
   "cell_type": "markdown",
   "metadata": {},
   "source": [
    "And another one!"
   ]
  },
  {
   "cell_type": "code",
   "execution_count": null,
   "metadata": {},
   "outputs": [],
   "source": [
    "function mandelbrot(z) w = z\n",
    "    for n in 1:74\n",
    "        abs2(w) < 4 ? w = w^2 + z : return n\n",
    "    end; 75\n",
    "end\n",
    "x, y = range(-0.65, -0.45; length=1600), range(0.51, 0.71; length=1600)\n",
    "heatmap(x, y, -log.(mandelbrot.(x' .+ y .* im)); aspect_ratio=1)"
   ]
  },
  {
   "attachments": {},
   "cell_type": "markdown",
   "metadata": {},
   "source": [
    "It's truly fascinating that one can generate such a wide variety of different plots with so few lines of code!"
   ]
  },
  {
   "cell_type": "markdown",
   "metadata": {},
   "source": []
  }
 ],
 "metadata": {
  "kernelspec": {
   "display_name": "Julia 1.8.5",
   "language": "julia",
   "name": "julia-1.8"
  },
  "language_info": {
   "file_extension": ".jl",
   "mimetype": "application/julia",
   "name": "julia",
   "version": "1.8.5"
  },
  "orig_nbformat": 4,
  "vscode": {
   "interpreter": {
    "hash": "31f2aee4e71d21fbe5cf8b01ff0e069b9275f58929596ceb00d14d90e3e16cd6"
   }
  }
 },
 "nbformat": 4,
 "nbformat_minor": 2
}
