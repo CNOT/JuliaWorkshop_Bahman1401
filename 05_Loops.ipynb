{
 "cells": [
  {
   "attachments": {},
   "cell_type": "markdown",
   "metadata": {},
   "source": [
    "# Loops"
   ]
  },
  {
   "attachments": {},
   "cell_type": "markdown",
   "metadata": {},
   "source": [
    "- `while` loops\n",
    "- `for` loops\n",
    "- A short summary of native data structures"
   ]
  },
  {
   "attachments": {},
   "cell_type": "markdown",
   "metadata": {},
   "source": [
    "## `while` loops\n",
    "The syntax for `while` loops is as follows:\n",
    "```julia\n",
    "while *condition is true*\n",
    "    *loop body*\n",
    "end\n",
    "```\n",
    "For example, we could use `while` to count or to iterate over an array."
   ]
  },
  {
   "cell_type": "code",
   "execution_count": null,
   "metadata": {},
   "outputs": [],
   "source": [
    "my_friends = [\"Ahmad\",\"Ali\",\"Amir Ali\",\"Ali\",\"Reza\",\"Mahdi\",\"Shahram\"]"
   ]
  },
  {
   "cell_type": "code",
   "execution_count": null,
   "metadata": {},
   "outputs": [],
   "source": [
    "i = 1\n",
    "while i <= length(my_friends)\n",
    "    friend = my_friends[i]\n",
    "    println(\"Hi $friend, it's great to see you!\")\n",
    "    i += 1\n",
    "end\n",
    "     "
   ]
  },
  {
   "attachments": {},
   "cell_type": "markdown",
   "metadata": {},
   "source": [
    "## `for` loops\n",
    "The syntax for a `for` loop is as follows:\n",
    "```julia\n",
    "for *var* in *loop iterable*\n",
    "    *loop body*\n",
    "end\n",
    "```\n",
    "We could use the `for` loop for the above example as: "
   ]
  },
  {
   "cell_type": "code",
   "execution_count": null,
   "metadata": {},
   "outputs": [],
   "source": [
    "for friend in my_friends\n",
    "    println(\"Hi $friend, it's great to see you!\")\n",
    "end"
   ]
  },
  {
   "attachments": {},
   "cell_type": "markdown",
   "metadata": {},
   "source": [
    "You could also use the ∈ (\\in) in place of the `in` keyword."
   ]
  },
  {
   "attachments": {},
   "cell_type": "markdown",
   "metadata": {},
   "source": [
    "Now let's use 'for' loops to create some multiplication tables, where the value of every entry is the product of its row and column indices.\n",
    "\n",
    "First, we initialize an array with zeros."
   ]
  },
  {
   "cell_type": "code",
   "execution_count": null,
   "metadata": {},
   "outputs": [],
   "source": [
    "m, n = 5, 5\n",
    "A = fill(0, (m, n)) # We could also use the zeros(Int,5,5) function"
   ]
  },
  {
   "cell_type": "code",
   "execution_count": null,
   "metadata": {},
   "outputs": [],
   "source": [
    "for i in 1:m\n",
    "    for j in 1:n\n",
    "        A[i, j] = i * j\n",
    "    end\n",
    "end\n",
    "A"
   ]
  },
  {
   "attachments": {},
   "cell_type": "markdown",
   "metadata": {},
   "source": [
    "Here's some syntactic sugar for the same nested `for` loop"
   ]
  },
  {
   "cell_type": "code",
   "execution_count": null,
   "metadata": {},
   "outputs": [],
   "source": [
    "B = fill(0, (m, n))\n",
    "for i in 1:m, j in 1:n\n",
    "    B[i, j] = i * j\n",
    "end\n",
    "B"
   ]
  },
  {
   "attachments": {},
   "cell_type": "markdown",
   "metadata": {},
   "source": [
    "Julia has *array comprehension*, which allows us to write:"
   ]
  },
  {
   "cell_type": "code",
   "execution_count": null,
   "metadata": {},
   "outputs": [],
   "source": [
    "C = [i*j for i in 1:5, j in 1:5]"
   ]
  },
  {
   "attachments": {},
   "cell_type": "markdown",
   "metadata": {},
   "source": [
    "## Data Structures\n",
    "- Tuples: `tup = ('a','b','c')`\n",
    "  - Fixed length and values and order\n",
    "  - `tup[1] --> a`\n",
    "- Named Tuples: `n_tup = (n1 = 'a', n2 = 'b', b3 = 'c')`\n",
    "  - `n_tup[1] --> a`\n",
    "  - Gives access to `n_tup.n1 --> a`\n",
    "- Dictionaries: `dic = Dict(n1 => 'a', n2 => 'b', n3 => 'c')`\n",
    "  - Unordered and mutable\n",
    "- Arrays: `['a','b','c']`\n",
    "  - Ordered and mutable\n",
    "- Matrix: `['a' 'b';'c' 'd']`"
   ]
  }
 ],
 "metadata": {
  "kernelspec": {
   "display_name": "Julia 1.8.5",
   "language": "julia",
   "name": "julia-1.8"
  },
  "language_info": {
   "file_extension": ".jl",
   "mimetype": "application/julia",
   "name": "julia",
   "version": "1.8.5"
  },
  "orig_nbformat": 4,
  "vscode": {
   "interpreter": {
    "hash": "31f2aee4e71d21fbe5cf8b01ff0e069b9275f58929596ceb00d14d90e3e16cd6"
   }
  }
 },
 "nbformat": 4,
 "nbformat_minor": 2
}
