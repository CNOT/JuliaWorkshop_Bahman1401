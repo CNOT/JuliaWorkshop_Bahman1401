{
 "cells": [
  {
   "attachments": {},
   "cell_type": "markdown",
   "metadata": {},
   "source": [
    "# Running your first Jupyter notebook"
   ]
  },
  {
   "attachments": {},
   "cell_type": "markdown",
   "metadata": {},
   "source": [
    "## Some basics"
   ]
  },
  {
   "attachments": {},
   "cell_type": "markdown",
   "metadata": {},
   "source": [
    "There are two types of cells:\n",
    "- Markdown cells\n",
    "- Julia cells"
   ]
  },
  {
   "attachments": {},
   "cell_type": "markdown",
   "metadata": {},
   "source": [
    "- `Shift`+`Enter` runs a cell\n",
    "- When a cell is only selected (not in edit mode), we can use these shortcuts:\n",
    "  - A: create a cell *above* the active cell\n",
    "  - B: create a cell *below* the active cell\n",
    "  - DD: removes the active cell\n",
    "- You can select an installed Kernel to be run.\n",
    "  - Python can also be used in these notebooks."
   ]
  },
  {
   "attachments": {},
   "cell_type": "markdown",
   "metadata": {},
   "source": [
    "Some basic markdown syntax also works here, e.g. use # to declare titles and subtitles:\n",
    "# Title\n",
    "## Subtitle\n",
    "### Subsubtile\n",
    "#### Subsubsubtile ...\n",
    "Or you can put latex equations between '$$'s to display them.\n",
    "$$\\alpha^2 + \\frac{\\beta^2}{\\pi^3}$$\n",
    "You can use '-' (1.) at the begining of the line to make a bullet (numbered) list.\n",
    "- bullet list\n",
    "1. numbered list"
   ]
  },
  {
   "attachments": {},
   "cell_type": "markdown",
   "metadata": {},
   "source": [
    "## Running a cell:\n",
    "Press `Shift`+`Enter` to execute the current cell. Julia automatically prints the output of the last line of the cell."
   ]
  },
  {
   "cell_type": "code",
   "execution_count": null,
   "metadata": {},
   "outputs": [],
   "source": [
    "2 * 2\n",
    "3 * 2"
   ]
  },
  {
   "cell_type": "code",
   "execution_count": null,
   "metadata": {},
   "outputs": [],
   "source": [
    "# Use '#' to comment a line\n",
    "# Use #= =# for multiline comments:\n",
    "#=\n",
    "This is a \n",
    "multiline\n",
    "comment \n",
    "=#\n",
    "# Use ; at the end of the command to suppress its output\n",
    "2 * 2\n",
    "3 * 2;"
   ]
  },
  {
   "attachments": {},
   "cell_type": "markdown",
   "metadata": {},
   "source": [
    "## Getting documentation about a function\n",
    "Use @doc macro at the begining of the line to get its documentation. In REPL you can just start the line with '?' instead."
   ]
  },
  {
   "cell_type": "code",
   "execution_count": null,
   "metadata": {},
   "outputs": [],
   "source": [
    "@doc sqrt"
   ]
  }
 ],
 "metadata": {
  "kernelspec": {
   "display_name": "Julia 1.8.5",
   "language": "julia",
   "name": "julia-1.8"
  },
  "language_info": {
   "file_extension": ".jl",
   "mimetype": "application/julia",
   "name": "julia",
   "version": "1.8.5"
  },
  "orig_nbformat": 4
 },
 "nbformat": 4,
 "nbformat_minor": 2
}
