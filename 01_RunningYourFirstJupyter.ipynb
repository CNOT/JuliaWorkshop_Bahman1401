{
 "cells": [
  {
   "attachments": {},
   "cell_type": "markdown",
   "metadata": {},
   "source": [
    "# Running your first Jupyter notebook"
   ]
  },
  {
   "attachments": {},
   "cell_type": "markdown",
   "metadata": {},
   "source": [
    "## Some basics"
   ]
  },
  {
   "attachments": {},
   "cell_type": "markdown",
   "metadata": {},
   "source": [
    "There are two types of cells:\n",
    "- Markdown cells\n",
    "- Julia cells"
   ]
  },
  {
   "attachments": {},
   "cell_type": "markdown",
   "metadata": {},
   "source": [
    "- `Shift`+`Enter` runs a cell\n",
    "- When a cell is only selected (not in edit mode), we can use these shortcuts:\n",
    "  - A: create a cell *above* the active cell\n",
    "  - B: create a cell *below* the active cell\n",
    "  - DD: removes the active cell\n",
    "- You can select an installed Kernel to be run.\n",
    "  - Python can also be used in these notebooks."
   ]
  },
  {
   "attachments": {},
   "cell_type": "markdown",
   "metadata": {},
   "source": [
    "Some basic markdown syntax also works here, e.g. use # to declare titles and subtitles:\n",
    "# Title\n",
    "## Subtitle\n",
    "### Subsubtile\n",
    "#### Subsubsubtile ...\n",
    "Or you can put latex equations between '$$'s to display them.\n",
    "$$\\alpha^2 + \\frac{\\beta^2}{\\pi^3}$$\n",
    "You can use '-' (1.) at the begining of the line to make a bullet (numbered) list.\n",
    "- bullet list\n",
    "1. numbered list"
   ]
  },
  {
   "attachments": {},
   "cell_type": "markdown",
   "metadata": {},
   "source": [
    "## Running a cell:\n",
    "Press `Shift`+`Enter` to execute the current cell. Julia automatically prints the output of the last line of the cell."
   ]
  },
  {
   "cell_type": "code",
   "execution_count": 1,
   "metadata": {},
   "outputs": [
    {
     "data": {
      "text/plain": [
       "6"
      ]
     },
     "metadata": {},
     "output_type": "display_data"
    }
   ],
   "source": [
    "2 * 2\n",
    "3 * 2"
   ]
  },
  {
   "cell_type": "code",
   "execution_count": 2,
   "metadata": {},
   "outputs": [],
   "source": [
    "# Use '#' to comment a line\n",
    "# Use ; at the end of the command to not print its output\n",
    "2 * 2\n",
    "3 * 2;"
   ]
  },
  {
   "attachments": {},
   "cell_type": "markdown",
   "metadata": {},
   "source": [
    "## Getting documentation about a function\n",
    "Use @doc macro at the begining of the line to get its documentation. In REPL you can just start the line with '?' instead."
   ]
  },
  {
   "cell_type": "code",
   "execution_count": 19,
   "metadata": {},
   "outputs": [
    {
     "data": {
      "text/latex": [
       "\\begin{verbatim}\n",
       "sqrt(x)\n",
       "\\end{verbatim}\n",
       "Return $\\sqrt{x}$. Throws \\href{@ref}{\\texttt{DomainError}} for negative \\href{@ref}{\\texttt{Real}} arguments. Use complex negative arguments instead. The prefix operator \\texttt{√} is equivalent to \\texttt{sqrt}.\n",
       "\n",
       "See also: \\href{@ref}{\\texttt{hypot}}.\n",
       "\n",
       "\\section{Examples}\n",
       "\\begin{verbatim}\n",
       "julia> sqrt(big(81))\n",
       "9.0\n",
       "\n",
       "julia> sqrt(big(-81))\n",
       "ERROR: DomainError with -81.0:\n",
       "NaN result for non-NaN input.\n",
       "Stacktrace:\n",
       " [1] sqrt(::BigFloat) at ./mpfr.jl:501\n",
       "[...]\n",
       "\n",
       "julia> sqrt(big(complex(-81)))\n",
       "0.0 + 9.0im\n",
       "\n",
       "julia> .√(1:4)\n",
       "4-element Vector{Float64}:\n",
       " 1.0\n",
       " 1.4142135623730951\n",
       " 1.7320508075688772\n",
       " 2.0\n",
       "\\end{verbatim}\n",
       "\\begin{verbatim}\n",
       "sqrt(A::AbstractMatrix)\n",
       "\\end{verbatim}\n",
       "If \\texttt{A} has no negative real eigenvalues, compute the principal matrix square root of \\texttt{A}, that is the unique matrix $X$ with eigenvalues having positive real part such that $X^2 = A$. Otherwise, a nonprincipal square root is returned.\n",
       "\n",
       "If \\texttt{A} is real-symmetric or Hermitian, its eigendecomposition (\\href{@ref}{\\texttt{eigen}}) is used to compute the square root.   For such matrices, eigenvalues λ that appear to be slightly negative due to roundoff errors are treated as if they were zero. More precisely, matrices with all eigenvalues \\texttt{≥ -rtol*(max |λ|)} are treated as semidefinite (yielding a Hermitian square root), with negative eigenvalues taken to be zero. \\texttt{rtol} is a keyword argument to \\texttt{sqrt} (in the Hermitian/real-symmetric case only) that defaults to machine precision scaled by \\texttt{size(A,1)}.\n",
       "\n",
       "Otherwise, the square root is determined by means of the Björck-Hammarling method \\footnotemark[BH83], which computes the complex Schur form (\\href{@ref}{\\texttt{schur}}) and then the complex square root of the triangular factor. If a real square root exists, then an extension of this method \\footnotemark[H87] that computes the real Schur form and then the real square root of the quasi-triangular factor is instead used.\n",
       "\n",
       "\\footnotetext[BH83]{Åke Björck and Sven Hammarling, \"A Schur method for the square root of a matrix\", Linear Algebra and its Applications, 52-53, 1983, 127-140. \\href{https://doi.org/10.1016/0024-3795(83)80010-X}{doi:10.1016/0024-3795(83)80010-X}\n",
       "\n",
       "}\n",
       "\\footnotetext[H87]{Nicholas J. Higham, \"Computing real square roots of a real matrix\", Linear Algebra and its Applications, 88-89, 1987, 405-430. \\href{https://doi.org/10.1016/0024-3795(87)90118-2}{doi:10.1016/0024-3795(87)90118-2}\n",
       "\n",
       "}\n",
       "\\section{Examples}\n",
       "\\begin{verbatim}\n",
       "julia> A = [4 0; 0 4]\n",
       "2×2 Matrix{Int64}:\n",
       " 4  0\n",
       " 0  4\n",
       "\n",
       "julia> sqrt(A)\n",
       "2×2 Matrix{Float64}:\n",
       " 2.0  0.0\n",
       " 0.0  2.0\n",
       "\\end{verbatim}\n"
      ],
      "text/markdown": [
       "```\n",
       "sqrt(x)\n",
       "```\n",
       "\n",
       "Return $\\sqrt{x}$. Throws [`DomainError`](@ref) for negative [`Real`](@ref) arguments. Use complex negative arguments instead. The prefix operator `√` is equivalent to `sqrt`.\n",
       "\n",
       "See also: [`hypot`](@ref).\n",
       "\n",
       "# Examples\n",
       "\n",
       "```jldoctest; filter = r\"Stacktrace:(\\n \\[[0-9]+\\].*)*\"\n",
       "julia> sqrt(big(81))\n",
       "9.0\n",
       "\n",
       "julia> sqrt(big(-81))\n",
       "ERROR: DomainError with -81.0:\n",
       "NaN result for non-NaN input.\n",
       "Stacktrace:\n",
       " [1] sqrt(::BigFloat) at ./mpfr.jl:501\n",
       "[...]\n",
       "\n",
       "julia> sqrt(big(complex(-81)))\n",
       "0.0 + 9.0im\n",
       "\n",
       "julia> .√(1:4)\n",
       "4-element Vector{Float64}:\n",
       " 1.0\n",
       " 1.4142135623730951\n",
       " 1.7320508075688772\n",
       " 2.0\n",
       "```\n",
       "\n",
       "```\n",
       "sqrt(A::AbstractMatrix)\n",
       "```\n",
       "\n",
       "If `A` has no negative real eigenvalues, compute the principal matrix square root of `A`, that is the unique matrix $X$ with eigenvalues having positive real part such that $X^2 = A$. Otherwise, a nonprincipal square root is returned.\n",
       "\n",
       "If `A` is real-symmetric or Hermitian, its eigendecomposition ([`eigen`](@ref)) is used to compute the square root.   For such matrices, eigenvalues λ that appear to be slightly negative due to roundoff errors are treated as if they were zero. More precisely, matrices with all eigenvalues `≥ -rtol*(max |λ|)` are treated as semidefinite (yielding a Hermitian square root), with negative eigenvalues taken to be zero. `rtol` is a keyword argument to `sqrt` (in the Hermitian/real-symmetric case only) that defaults to machine precision scaled by `size(A,1)`.\n",
       "\n",
       "Otherwise, the square root is determined by means of the Björck-Hammarling method [^BH83], which computes the complex Schur form ([`schur`](@ref)) and then the complex square root of the triangular factor. If a real square root exists, then an extension of this method [^H87] that computes the real Schur form and then the real square root of the quasi-triangular factor is instead used.\n",
       "\n",
       "[^BH83]: Åke Björck and Sven Hammarling, \"A Schur method for the square root of a matrix\", Linear Algebra and its Applications, 52-53, 1983, 127-140. [doi:10.1016/0024-3795(83)80010-X](https://doi.org/10.1016/0024-3795(83)80010-X)\n",
       "\n",
       "[^H87]: Nicholas J. Higham, \"Computing real square roots of a real matrix\", Linear Algebra and its Applications, 88-89, 1987, 405-430. [doi:10.1016/0024-3795(87)90118-2](https://doi.org/10.1016/0024-3795(87)90118-2)\n",
       "\n",
       "# Examples\n",
       "\n",
       "```jldoctest\n",
       "julia> A = [4 0; 0 4]\n",
       "2×2 Matrix{Int64}:\n",
       " 4  0\n",
       " 0  4\n",
       "\n",
       "julia> sqrt(A)\n",
       "2×2 Matrix{Float64}:\n",
       " 2.0  0.0\n",
       " 0.0  2.0\n",
       "```\n"
      ],
      "text/plain": [
       "\u001b[36m  sqrt(x)\u001b[39m\n",
       "\n",
       "  Return \u001b[35m\\sqrt{x}\u001b[39m. Throws \u001b[36mDomainError\u001b[39m for negative \u001b[36mReal\u001b[39m arguments. Use complex\n",
       "  negative arguments instead. The prefix operator \u001b[36m√\u001b[39m is equivalent to \u001b[36msqrt\u001b[39m.\n",
       "\n",
       "  See also: \u001b[36mhypot\u001b[39m.\n",
       "\n",
       "\u001b[1m  Examples\u001b[22m\n",
       "\u001b[1m  ≡≡≡≡≡≡≡≡≡≡\u001b[22m\n",
       "\n",
       "\u001b[36m  julia> sqrt(big(81))\u001b[39m\n",
       "\u001b[36m  9.0\u001b[39m\n",
       "\u001b[36m  \u001b[39m\n",
       "\u001b[36m  julia> sqrt(big(-81))\u001b[39m\n",
       "\u001b[36m  ERROR: DomainError with -81.0:\u001b[39m\n",
       "\u001b[36m  NaN result for non-NaN input.\u001b[39m\n",
       "\u001b[36m  Stacktrace:\u001b[39m\n",
       "\u001b[36m   [1] sqrt(::BigFloat) at ./mpfr.jl:501\u001b[39m\n",
       "\u001b[36m  [...]\u001b[39m\n",
       "\u001b[36m  \u001b[39m\n",
       "\u001b[36m  julia> sqrt(big(complex(-81)))\u001b[39m\n",
       "\u001b[36m  0.0 + 9.0im\u001b[39m\n",
       "\u001b[36m  \u001b[39m\n",
       "\u001b[36m  julia> .√(1:4)\u001b[39m\n",
       "\u001b[36m  4-element Vector{Float64}:\u001b[39m\n",
       "\u001b[36m   1.0\u001b[39m\n",
       "\u001b[36m   1.4142135623730951\u001b[39m\n",
       "\u001b[36m   1.7320508075688772\u001b[39m\n",
       "\u001b[36m   2.0\u001b[39m\n",
       "\n",
       "\u001b[36m  sqrt(A::AbstractMatrix)\u001b[39m\n",
       "\n",
       "  If \u001b[36mA\u001b[39m has no negative real eigenvalues, compute the principal matrix square\n",
       "  root of \u001b[36mA\u001b[39m, that is the unique matrix \u001b[35mX\u001b[39m with eigenvalues having positive real\n",
       "  part such that \u001b[35mX^2 = A\u001b[39m. Otherwise, a nonprincipal square root is returned.\n",
       "\n",
       "  If \u001b[36mA\u001b[39m is real-symmetric or Hermitian, its eigendecomposition (\u001b[36meigen\u001b[39m) is used\n",
       "  to compute the square root. For such matrices, eigenvalues λ that appear to\n",
       "  be slightly negative due to roundoff errors are treated as if they were\n",
       "  zero. More precisely, matrices with all eigenvalues \u001b[36m≥ -rtol*(max |λ|)\u001b[39m are\n",
       "  treated as semidefinite (yielding a Hermitian square root), with negative\n",
       "  eigenvalues taken to be zero. \u001b[36mrtol\u001b[39m is a keyword argument to \u001b[36msqrt\u001b[39m (in the\n",
       "  Hermitian/real-symmetric case only) that defaults to machine precision\n",
       "  scaled by \u001b[36msize(A,1)\u001b[39m.\n",
       "\n",
       "  Otherwise, the square root is determined by means of the Björck-Hammarling\n",
       "  method \u001b[1m[^BH83]\u001b[22m, which computes the complex Schur form (\u001b[36mschur\u001b[39m) and then the\n",
       "  complex square root of the triangular factor. If a real square root exists,\n",
       "  then an extension of this method \u001b[1m[^H87]\u001b[22m that computes the real Schur form\n",
       "  and then the real square root of the quasi-triangular factor is instead\n",
       "  used.\n",
       "\n",
       "  │ \u001b[0m\u001b[1m[^BH83]\u001b[22m\n",
       "  │\n",
       "  │  Åke Björck and Sven Hammarling, \"A Schur method for the square\n",
       "  │  root of a matrix\", Linear Algebra and its Applications, 52-53,\n",
       "  │  1983, 127-140. doi:10.1016/0024-3795(83)80010-X\n",
       "  │  (https://doi.org/10.1016/0024-3795(83)80010-X)\n",
       "\n",
       "  │ \u001b[0m\u001b[1m[^H87]\u001b[22m\n",
       "  │\n",
       "  │  Nicholas J. Higham, \"Computing real square roots of a real\n",
       "  │  matrix\", Linear Algebra and its Applications, 88-89, 1987,\n",
       "  │  405-430. doi:10.1016/0024-3795(87)90118-2\n",
       "  │  (https://doi.org/10.1016/0024-3795(87)90118-2)\n",
       "\n",
       "\u001b[1m  Examples\u001b[22m\n",
       "\u001b[1m  ≡≡≡≡≡≡≡≡≡≡\u001b[22m\n",
       "\n",
       "\u001b[36m  julia> A = [4 0; 0 4]\u001b[39m\n",
       "\u001b[36m  2×2 Matrix{Int64}:\u001b[39m\n",
       "\u001b[36m   4  0\u001b[39m\n",
       "\u001b[36m   0  4\u001b[39m\n",
       "\u001b[36m  \u001b[39m\n",
       "\u001b[36m  julia> sqrt(A)\u001b[39m\n",
       "\u001b[36m  2×2 Matrix{Float64}:\u001b[39m\n",
       "\u001b[36m   2.0  0.0\u001b[39m\n",
       "\u001b[36m   0.0  2.0\u001b[39m"
      ]
     },
     "metadata": {},
     "output_type": "display_data"
    }
   ],
   "source": [
    "@doc sqrt"
   ]
  }
 ],
 "metadata": {
  "kernelspec": {
   "display_name": "Julia 1.8.5",
   "language": "julia",
   "name": "julia-1.8"
  },
  "language_info": {
   "file_extension": ".jl",
   "mimetype": "application/julia",
   "name": "julia",
   "version": "1.8.5"
  },
  "orig_nbformat": 4
 },
 "nbformat": 4,
 "nbformat_minor": 2
}
