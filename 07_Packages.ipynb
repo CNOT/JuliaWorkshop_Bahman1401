{
 "cells": [
  {
   "attachments": {},
   "cell_type": "markdown",
   "metadata": {},
   "source": [
    "# Packages"
   ]
  },
  {
   "attachments": {},
   "cell_type": "markdown",
   "metadata": {},
   "source": [
    "The Julia ecosystem contains over 7,400 packages that are registered in the General registry, which means that finding the right package can be a challenge. Fortunately, there are services that can help navigate the ecosystem, including:\n",
    "- [JuliaHub](https://juliahub.com/ui/Packages) — a [Julia Computing](https://juliacomputing.com/) service that includes search of all registered open source package documentation, code search, and navigation by tags/keywords.\n",
    "- [Julia Packages](https://juliapackages.com/) — browse Julia packages, filter by categories, and sort them by popularity, creation date or date of last update. Also supports browsing package developers.\n",
    "- [Julia.jl](https://github.com/svaksha/Julia.jl) — a manually curated taxonomy of Julia packages (category information for JuliaPackages is derived from this as well).\n",
    "\n",
    "At this stage, most needs will be satisfied with native julia packages. This being said, if you are not satisfied with what is provided, you can always use first class function calls using the `PyCall`, `RCall`, `Cxx`, etc. packages from your desired language.\n",
    "\n",
    "There are two equivalent ways of installing and updating packages in Julia:\n",
    "1. Using the `Pkg` package (Old way, works in Jupyter notebooks too)\n",
    "2. Using the package mode `]` (More convenient, works in REPL)\n",
    "\n",
    "For now, let's learn how to use a package.\n",
    "\n",
    "The first time you use a package on a given Julia installation, you need to use the package manager to explicitly add it:\n"
   ]
  },
  {
   "cell_type": "code",
   "execution_count": null,
   "metadata": {},
   "outputs": [],
   "source": [
    "using Pkg\n",
    "Pkg.add(\"Example\")\n",
    "# Equivalentln just run `] add Example` in REPL"
   ]
  },
  {
   "attachments": {},
   "cell_type": "markdown",
   "metadata": {},
   "source": [
    "This will install and precompile the `Example` package. Every time you use Julia (start a new session at the REPL, or open a notebook for the first time, for example), you load the package with the `using` keyword"
   ]
  },
  {
   "cell_type": "code",
   "execution_count": null,
   "metadata": {},
   "outputs": [],
   "source": [
    "using Example"
   ]
  },
  {
   "attachments": {},
   "cell_type": "markdown",
   "metadata": {},
   "source": [
    "In the source code of [`Example.jl`](https://github.com/JuliaLang/Example.jl/blob/master/src/Example.jl) we see the following function declared\n",
    "```julia\n",
    "hello(who::String) = \"Hello, $who\"\n",
    "```\n",
    "Having loaded `Example`, we should now be able to call `hello`\n"
   ]
  },
  {
   "cell_type": "code",
   "execution_count": null,
   "metadata": {},
   "outputs": [],
   "source": [
    "hello(\"it's me. I was wondering if after all these years you'd like to meet.\")"
   ]
  },
  {
   "attachments": {},
   "cell_type": "markdown",
   "metadata": {},
   "source": [
    "Now let's learn some useful `Package` commands:\n",
    "\n",
    "- We can read the installed packages:"
   ]
  },
  {
   "cell_type": "code",
   "execution_count": null,
   "metadata": {},
   "outputs": [],
   "source": [
    "Pkg.status()\n",
    "# Equivalently `] st` and `] status`"
   ]
  },
  {
   "attachments": {},
   "cell_type": "markdown",
   "metadata": {},
   "source": [
    "- We've seen the `activate` function before. It can activate the environment that is modified by executing package commands.\n",
    "- `Pkg.update` (equivalently `]up`) updates the packages.\n",
    "- `Pkg.instantiate` (equivalently `]instantiate`) If a `Manifest.toml` file exists in the active project, download all the packages declared in that manifest. Otherwise, resolve a set of feasible packages from the `Project.toml` files and install them.\n",
    "- `Pkg.rm(\"PkgName\")` (equivalentnly `]rm PkgName`) removes the `PkgName`."
   ]
  },
  {
   "cell_type": "code",
   "execution_count": null,
   "metadata": {},
   "outputs": [],
   "source": [
    "Pkg.rm(\"Example\")"
   ]
  }
 ],
 "metadata": {
  "kernelspec": {
   "display_name": "Julia 1.8.5",
   "language": "julia",
   "name": "julia-1.8"
  },
  "language_info": {
   "file_extension": ".jl",
   "mimetype": "application/julia",
   "name": "julia",
   "version": "1.8.5"
  },
  "orig_nbformat": 4,
  "vscode": {
   "interpreter": {
    "hash": "31f2aee4e71d21fbe5cf8b01ff0e069b9275f58929596ceb00d14d90e3e16cd6"
   }
  }
 },
 "nbformat": 4,
 "nbformat_minor": 2
}
