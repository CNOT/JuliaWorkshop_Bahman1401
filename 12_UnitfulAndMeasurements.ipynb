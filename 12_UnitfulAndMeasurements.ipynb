{
 "cells": [
  {
   "cell_type": "markdown",
   "metadata": {},
   "source": [
    "# `Unitful.jl` and `Measurements.jl`\n",
    "These are a couple of physics related and lightweight packages, that are a joy to work with. `Measurements.jl` gives us access to doing arithmetics with uncertainties, and `Unitful.jl` gives us access to variables and arithmetics that have physical dimensions. "
   ]
  },
  {
   "cell_type": "code",
   "execution_count": 1,
   "metadata": {},
   "outputs": [],
   "source": [
    "using Measurements, Unitful, Unitful.DefaultSymbols"
   ]
  },
  {
   "cell_type": "code",
   "execution_count": 4,
   "metadata": {},
   "outputs": [
    {
     "data": {
      "text/plain": [
       "3 m s^-1"
      ]
     },
     "metadata": {},
     "output_type": "display_data"
    }
   ],
   "source": [
    "a = 2g\n",
    "b = 3m/s"
   ]
  },
  {
   "cell_type": "code",
   "execution_count": 5,
   "metadata": {},
   "outputs": [
    {
     "data": {
      "text/plain": [
       "6 g m s^-1"
      ]
     },
     "metadata": {},
     "output_type": "display_data"
    }
   ],
   "source": [
    "a * b"
   ]
  },
  {
   "cell_type": "code",
   "execution_count": 6,
   "metadata": {},
   "outputs": [
    {
     "ename": "Unitful.DimensionError",
     "evalue": "DimensionError: 2 g and 3 m s^-1 are not dimensionally compatible.",
     "output_type": "error",
     "traceback": [
      "DimensionError: 2 g and 3 m s^-1 are not dimensionally compatible.\n",
      "\n",
      "Stacktrace:\n",
      " [1] +(x::Quantity{Int64, 𝐌, Unitful.FreeUnits{(g,), 𝐌, nothing}}, y::Quantity{Int64, 𝐋 𝐓^-1, Unitful.FreeUnits{(m, s^-1), 𝐋 𝐓^-1, nothing}})\n",
      "   @ Unitful ~/.julia/packages/Unitful/fbiNW/src/quantities.jl:133\n",
      " [2] top-level scope\n",
      "   @ ~/Cloud/Hostiso/Projects/JuliaWorkshop_Bahman1401/12_UnitfulAndMeasurements.ipynb:1"
     ]
    }
   ],
   "source": [
    "a + b #This should throw an error"
   ]
  },
  {
   "cell_type": "code",
   "execution_count": 8,
   "metadata": {},
   "outputs": [
    {
     "data": {
      "text/plain": [
       "0.45 ± 0.02 s"
      ]
     },
     "metadata": {},
     "output_type": "display_data"
    }
   ],
   "source": [
    "c = (1 ± 0.1)m/s^2\n",
    "d = (0.45 ± 0.02)s"
   ]
  },
  {
   "cell_type": "code",
   "execution_count": 9,
   "metadata": {},
   "outputs": [
    {
     "data": {
      "text/plain": [
       "0.149 ± 0.045 m^2 s^-4"
      ]
     },
     "metadata": {},
     "output_type": "display_data"
    }
   ],
   "source": [
    "sin(d*c/b)*c^2"
   ]
  },
  {
   "cell_type": "markdown",
   "metadata": {},
   "source": [
    "## Ex: Calculate the thickness of tinfoil including uncertainties"
   ]
  },
  {
   "cell_type": "code",
   "execution_count": 2,
   "metadata": {},
   "outputs": [
    {
     "name": "stdout",
     "output_type": "stream",
     "text": [
      "thickness = μm(mass / (ρ * width * length)) = 21.3 ± 1.8 μm\n"
     ]
    },
    {
     "data": {
      "text/plain": [
       "21.3 ± 1.8 μm"
      ]
     },
     "metadata": {},
     "output_type": "display_data"
    }
   ],
   "source": [
    "ρ = (2.7 ± 0.2)g/cm^3    # density of aluminum\n",
    "# For a roll of tinfoil\n",
    "mass = (250 ± 10)g\n",
    "width = (30.5 ± 0.2)cm\n",
    "length = (14.24 ± 0.2)m\n",
    "# ρ = mass/(width*length*thickness)\n",
    "@show thickness = μm(mass/(ρ*width*length))"
   ]
  }
 ],
 "metadata": {
  "kernelspec": {
   "display_name": "Julia 1.8.5",
   "language": "julia",
   "name": "julia-1.8"
  },
  "language_info": {
   "file_extension": ".jl",
   "mimetype": "application/julia",
   "name": "julia",
   "version": "1.8.5"
  },
  "orig_nbformat": 4,
  "vscode": {
   "interpreter": {
    "hash": "31f2aee4e71d21fbe5cf8b01ff0e069b9275f58929596ceb00d14d90e3e16cd6"
   }
  }
 },
 "nbformat": 4,
 "nbformat_minor": 2
}
