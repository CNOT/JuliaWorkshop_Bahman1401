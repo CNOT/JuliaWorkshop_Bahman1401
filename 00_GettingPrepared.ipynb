{
 "cells": [
  {
   "attachments": {},
   "cell_type": "markdown",
   "metadata": {},
   "source": [
    "# Installation"
   ]
  },
  {
   "attachments": {},
   "cell_type": "markdown",
   "metadata": {},
   "source": [
    "Download and install the appropriate Julia file from https://julialang.org/download\n",
    "![Select one of these](images/Julia_webpage.png \"Download page\")"
   ]
  },
  {
   "attachments": {},
   "cell_type": "markdown",
   "metadata": {},
   "source": [
    "# Setting up our environment"
   ]
  },
  {
   "attachments": {},
   "cell_type": "markdown",
   "metadata": {},
   "source": [
    "1. After installing Julia, open it in the terminal.\n",
    "   - I recommend adding a symbolic link of Julia to one of your system $PATH folders. That way you can open Julia's REPL just by typing `julia` in the terminal.\n",
    "2. Change the active directory to that of this workshop.\n",
    "   - Typing `;` once at the begining of the line will change the REPL to bash mode.\n",
    "   - This way you have access to bash commands without needing to leave Julia.\n",
    "   - `pwd` shows the current directory.\n",
    "   - `cd PATH/TO/WORKSHOP` changes the directory.\n",
    "3. After changing the directory to the workshop's directory, do the following:\n",
    "   1. Pressing `]` once takes you to \"REPL Pkg\" mode.\n",
    "   2. `activate .` should activate the containerized packages we need in this workshop.\n",
    "      - You should see this at the begining of the pkg mode now: `(JuliaWorkshop_Bahman1401) pkg>`\n",
    "      - This is a good way of ensuring everyone is running the same set of packages.\n",
    "   3. `instantiate` makes sure the packages are properly installed. This could take some minutes."
   ]
  },
  {
   "cell_type": "markdown",
   "metadata": {},
   "source": []
  },
  {
   "cell_type": "code",
   "execution_count": null,
   "metadata": {},
   "outputs": [],
   "source": []
  }
 ],
 "metadata": {
  "kernelspec": {
   "display_name": "Julia 1.8.5",
   "language": "julia",
   "name": "julia-1.8"
  },
  "language_info": {
   "file_extension": ".jl",
   "mimetype": "application/julia",
   "name": "julia",
   "version": "1.8.5"
  },
  "orig_nbformat": 4
 },
 "nbformat": 4,
 "nbformat_minor": 2
}
